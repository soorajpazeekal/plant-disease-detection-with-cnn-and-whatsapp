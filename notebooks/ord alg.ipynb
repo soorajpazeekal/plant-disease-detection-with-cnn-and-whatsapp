{
 "cells": [
  {
   "cell_type": "code",
   "execution_count": 1,
   "id": "355cf1eb",
   "metadata": {},
   "outputs": [],
   "source": [
    "import numpy as np\n",
    "import pandas as pd\n",
    "import cv2\n",
    "import matplotlib.pyplot as plt\n",
    "import os\n",
    "%matplotlib inline"
   ]
  },
  {
   "cell_type": "code",
   "execution_count": 2,
   "id": "4d8da5c9",
   "metadata": {},
   "outputs": [],
   "source": [
    "path = 'C:/Users/lenovo/Pictures/Disease_dataset/test'\n",
    "img1 = cv2.imread(os.path.join(path, 'CORDANA_01.jpg'))\n",
    "\n",
    "img_building = cv2.cvtColor(img1, cv2.COLOR_BGR2RGB)  # Convert from cv's BRG default color order to RGB\n",
    "\n",
    "orb = cv2.ORB_create()  # OpenCV 3 backward incompatibility: Do not create a detector with `cv2.ORB()`.\n",
    "\n",
    "key_points, description = orb.detectAndCompute(img_building, None)\n",
    "img_building_keypoints = cv2.drawKeypoints(img_building, \n",
    "                                           key_points, \n",
    "                                           img_building, \n",
    "                                           flags=cv2.DRAW_MATCHES_FLAGS_DRAW_RICH_KEYPOINTS)"
   ]
  },
  {
   "cell_type": "code",
   "execution_count": null,
   "id": "2bc8443b",
   "metadata": {},
   "outputs": [],
   "source": [
    "plt.figure(figsize=(16, 16))\n",
    "plt.title('ORB Interest Points')\n",
    "plt.imshow(img_building_keypoints); plt.show()\n",
    "cv2.waitKey(0)\n",
    "cv2.destroyAllWindows()"
   ]
  },
  {
   "cell_type": "code",
   "execution_count": null,
   "id": "6d67a644",
   "metadata": {},
   "outputs": [],
   "source": []
  }
 ],
 "metadata": {
  "kernelspec": {
   "display_name": "Python 3 (ipykernel)",
   "language": "python",
   "name": "python3"
  },
  "language_info": {
   "codemirror_mode": {
    "name": "ipython",
    "version": 3
   },
   "file_extension": ".py",
   "mimetype": "text/x-python",
   "name": "python",
   "nbconvert_exporter": "python",
   "pygments_lexer": "ipython3",
   "version": "3.9.7"
  }
 },
 "nbformat": 4,
 "nbformat_minor": 5
}
